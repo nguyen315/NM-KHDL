{
 "cells": [
  {
   "cell_type": "code",
   "execution_count": 3,
   "metadata": {},
   "outputs": [],
   "source": [
    "# import các thư viện hỗ trợ\n",
    "import requests\n",
    "from bs4 import BeautifulSoup\n",
    "import json\n",
    "import time # Dùng để sleep chương trình\n",
    "import pandas as pd # Dùng để đọc và hiển thị file csv (Pandas sẽ được học chi tiết ở buổi tới)\n",
    "import datetime as dt # Dùng để xử lý dữ liệu thời gian\n",
    "import re"
   ]
  },
  {
   "cell_type": "code",
   "execution_count": 4,
   "metadata": {},
   "outputs": [],
   "source": [
    "df1 = pd.read_csv('books_N1.csv', sep='\\t')"
   ]
  },
  {
   "cell_type": "code",
   "execution_count": 5,
   "metadata": {},
   "outputs": [],
   "source": [
    "df2 = pd.read_csv('books_N2.csv', sep='\\t')"
   ]
  },
  {
   "cell_type": "code",
   "execution_count": 6,
   "metadata": {},
   "outputs": [],
   "source": [
    "df3 = pd.read_csv('books_N3.csv', sep='\\t')"
   ]
  },
  {
   "cell_type": "code",
   "execution_count": 7,
   "metadata": {},
   "outputs": [],
   "source": [
    "df4 = pd.read_csv('books_N4.csv', sep='\\t')"
   ]
  },
  {
   "cell_type": "code",
   "execution_count": 8,
   "metadata": {},
   "outputs": [],
   "source": []
  },
  {
   "cell_type": "code",
   "execution_count": 9,
   "metadata": {},
   "outputs": [],
   "source": [
    "df6 = pd.read_csv('book3.csv', sep='\\t')"
   ]
  },
  {
   "cell_type": "code",
   "execution_count": 10,
   "metadata": {},
   "outputs": [],
   "source": [
    "df7 = pd.read_csv('book4.csv', sep='\\t')"
   ]
  },
  {
   "cell_type": "code",
   "execution_count": 11,
   "metadata": {},
   "outputs": [],
   "source": [
    "df8 = pd.read_csv('book5.csv', sep='\\t')"
   ]
  },
  {
   "cell_type": "code",
   "execution_count": 12,
   "metadata": {},
   "outputs": [],
   "source": [
    "df9 = pd.read_csv('book6.csv', sep='\\t')"
   ]
  },
  {
   "cell_type": "code",
   "execution_count": 13,
   "metadata": {},
   "outputs": [],
   "source": [
    "df10 = pd.read_csv('book7.csv', sep='\\t', error_bad_lines=False)"
   ]
  },
  {
   "cell_type": "code",
   "execution_count": 33,
   "metadata": {},
   "outputs": [
    {
     "data": {
      "text/html": [
       "<div>\n",
       "<style scoped>\n",
       "    .dataframe tbody tr th:only-of-type {\n",
       "        vertical-align: middle;\n",
       "    }\n",
       "\n",
       "    .dataframe tbody tr th {\n",
       "        vertical-align: top;\n",
       "    }\n",
       "\n",
       "    .dataframe thead th {\n",
       "        text-align: right;\n",
       "    }\n",
       "</style>\n",
       "<table border=\"1\" class=\"dataframe\">\n",
       "  <thead>\n",
       "    <tr style=\"text-align: right;\">\n",
       "      <th></th>\n",
       "      <th>book_id</th>\n",
       "      <th>title</th>\n",
       "      <th>authors</th>\n",
       "      <th>average_rating</th>\n",
       "      <th>ratings_count</th>\n",
       "      <th>text_review</th>\n",
       "      <th>num_pages</th>\n",
       "      <th>publication</th>\n",
       "      <th>publisher</th>\n",
       "      <th>genre</th>\n",
       "    </tr>\n",
       "  </thead>\n",
       "  <tbody>\n",
       "    <tr>\n",
       "      <th>0</th>\n",
       "      <td>104700</td>\n",
       "      <td>Self Analysis</td>\n",
       "      <td>L. Ron Hubbard</td>\n",
       "      <td>3.80</td>\n",
       "      <td>283</td>\n",
       "      <td>32</td>\n",
       "      <td>336</td>\n",
       "      <td>October 28th 1992</td>\n",
       "      <td>Bridge Publications, Inc.</td>\n",
       "      <td>Self Help</td>\n",
       "    </tr>\n",
       "    <tr>\n",
       "      <th>1</th>\n",
       "      <td>104734</td>\n",
       "      <td>The Vagina Monologues</td>\n",
       "      <td>Eve Ensler</td>\n",
       "      <td>3.88</td>\n",
       "      <td>29572</td>\n",
       "      <td>2125</td>\n",
       "      <td>185</td>\n",
       "      <td>May 3rd 2001</td>\n",
       "      <td>Virago Press Ltd.</td>\n",
       "      <td>Feminism</td>\n",
       "    </tr>\n",
       "    <tr>\n",
       "      <th>2</th>\n",
       "      <td>104737</td>\n",
       "      <td>A Monstrous Regiment of Women</td>\n",
       "      <td>Laurie R. King</td>\n",
       "      <td>4.03</td>\n",
       "      <td>22391</td>\n",
       "      <td>1769</td>\n",
       "      <td>336</td>\n",
       "      <td>2000</td>\n",
       "      <td>HarperCollins</td>\n",
       "      <td>Mystery</td>\n",
       "    </tr>\n",
       "    <tr>\n",
       "      <th>3</th>\n",
       "      <td>104739</td>\n",
       "      <td>A Grave Talent</td>\n",
       "      <td>Laurie R. King</td>\n",
       "      <td>3.93</td>\n",
       "      <td>6497</td>\n",
       "      <td>482</td>\n",
       "      <td>342</td>\n",
       "      <td>June 1st 1995</td>\n",
       "      <td>Crimeline</td>\n",
       "      <td>Mystery</td>\n",
       "    </tr>\n",
       "    <tr>\n",
       "      <th>4</th>\n",
       "      <td>104790</td>\n",
       "      <td>All's Well That Ends Well</td>\n",
       "      <td>William Shakespeare</td>\n",
       "      <td>3.64</td>\n",
       "      <td>14088</td>\n",
       "      <td>638</td>\n",
       "      <td>336</td>\n",
       "      <td>January 1st 2006</td>\n",
       "      <td>Simon  Schuster</td>\n",
       "      <td>Classics</td>\n",
       "    </tr>\n",
       "  </tbody>\n",
       "</table>\n",
       "</div>"
      ],
      "text/plain": [
       "   book_id                          title              authors  \\\n",
       "0   104700                  Self Analysis       L. Ron Hubbard   \n",
       "1   104734          The Vagina Monologues           Eve Ensler   \n",
       "2   104737  A Monstrous Regiment of Women       Laurie R. King   \n",
       "3   104739                 A Grave Talent       Laurie R. King   \n",
       "4   104790      All's Well That Ends Well  William Shakespeare   \n",
       "\n",
       "   average_rating  ratings_count  text_review  num_pages        publication  \\\n",
       "0            3.80            283           32        336  October 28th 1992   \n",
       "1            3.88          29572         2125        185       May 3rd 2001   \n",
       "2            4.03          22391         1769        336               2000   \n",
       "3            3.93           6497          482        342      June 1st 1995   \n",
       "4            3.64          14088          638        336   January 1st 2006   \n",
       "\n",
       "                   publisher      genre  \n",
       "0  Bridge Publications, Inc.  Self Help  \n",
       "1          Virago Press Ltd.   Feminism  \n",
       "2              HarperCollins    Mystery  \n",
       "3                  Crimeline    Mystery  \n",
       "4            Simon  Schuster   Classics  "
      ]
     },
     "execution_count": 33,
     "metadata": {},
     "output_type": "execute_result"
    }
   ],
   "source": [
    "df11 = pd.read_csv('test.csv', sep='\\t')\n",
    "df11.head()"
   ]
  },
  {
   "cell_type": "code",
   "execution_count": 34,
   "metadata": {},
   "outputs": [
    {
     "data": {
      "text/plain": [
       "(2631, 10)"
      ]
     },
     "execution_count": 34,
     "metadata": {},
     "output_type": "execute_result"
    }
   ],
   "source": [
    "df = df.append(df11, ignore_index=True)\n",
    "df.shape"
   ]
  },
  {
   "cell_type": "code",
   "execution_count": 37,
   "metadata": {},
   "outputs": [
    {
     "data": {
      "text/plain": [
       "(2485, 10)"
      ]
     },
     "execution_count": 37,
     "metadata": {},
     "output_type": "execute_result"
    }
   ],
   "source": [
    "df = df.drop_duplicates('book_id')\n",
    "df.shape"
   ]
  },
  {
   "cell_type": "code",
   "execution_count": 42,
   "metadata": {},
   "outputs": [],
   "source": [
    "df.to_csv('books.csv', sep='\\t', index=False)\n"
   ]
  },
  {
   "cell_type": "code",
   "execution_count": 44,
   "metadata": {},
   "outputs": [
    {
     "data": {
      "text/plain": [
       "(2485, 10)"
      ]
     },
     "execution_count": 44,
     "metadata": {},
     "output_type": "execute_result"
    }
   ],
   "source": [
    "data = pd.read_csv('books.csv', sep='\\t')\n",
    "data.shape"
   ]
  },
  {
   "cell_type": "code",
   "execution_count": null,
   "metadata": {},
   "outputs": [],
   "source": []
  }
 ],
 "metadata": {
  "kernelspec": {
   "display_name": "Python 3",
   "language": "python",
   "name": "python3"
  },
  "language_info": {
   "codemirror_mode": {
    "name": "ipython",
    "version": 3
   },
   "file_extension": ".py",
   "mimetype": "text/x-python",
   "name": "python",
   "nbconvert_exporter": "python",
   "pygments_lexer": "ipython3",
   "version": "3.8.3"
  }
 },
 "nbformat": 4,
 "nbformat_minor": 4
}
